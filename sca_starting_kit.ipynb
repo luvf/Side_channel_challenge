{
 "cells": [
  {
   "cell_type": "markdown",
   "metadata": {},
   "source": [
    "# <center><u>Deep Learning for Side-Channel Analysis</u></center>\n",
    "\n",
    "<center><b>Adrien Chuttarsing & Luca Veyrin-Forrer & Malik Kazi Aoual & Martin Bauw & Nouredine Nour</b></center>\n",
    "\n",
    "<center> Data Camp Project - M2 AIC </center>\n",
    "\n",
    "## 1. Challenge introduction\n",
    "\n",
    "## 2. Business case: embedded encryption, data, IoT\n",
    "\n",
    "## 3. Exploratory data analysis\n",
    "\n",
    "## 4. Baseline solution\n",
    "\n",
    "## 5. Making a RAMP submission"
   ]
  },
  {
   "cell_type": "markdown",
   "metadata": {},
   "source": [
    "# <center><span style=\"color:blue\">1. Challenge introduction</span></center>\n",
    "\n",
    "<center><img src=\"images/sca.jpg\" width=\"500\" heights=\"100\"> <b>SCA: breaching a system with only external access to it</b> <br>Image credit: https://www.cs.tau.ac.il/~tromer/acoustic/</center>\n",
    "\n",
    "This challenge is about revealing the relevance of deep learning in the field of a certain type of cyber attack: the Side-Channel Attack (SCA). SCA harvests Side-Channel Analysis information in order to breach a protected system. This information consists in physical measurements associated with the hardware on which the cryptographic algorithms are implemented. Here, we consider the use of electromagnetic measurements of a smart card as a side-channel to attack an AES implementation. The project was inspired by the work of an ANSSI and CEA team https://github.com/ANSSI-FR/ASCAD formalized in a research article https://eprint.iacr.org/2018/053.pdf \n",
    "\n",
    "<center><img src=\"images/whitecard.jpg\" width=\"200\" heights=\"200\"><b>Hardware that generated the data:<br>Atmel ATMega8515 + 24C64 plain white smartcard </b><br> Image credit: http://www.infinityusb.com/</center>\n",
    "\n",
    "The overall advent of AI doesn't go without impacting cybersecurity, a growing and essential field for any economy in our digitalized world. Ernst and Young reports an expected global cost of US $ 6 trillions for cybersecurity breaches across all sectors by 2021.\n",
    "\n",
    "<br>\n",
    "<center><img src=\"images/eufacts.png\" width=\"600\" heights=\"400\"><b>EU Council figures on cybersecurity in 2017</b><br> Image credit: consilium.europa.eu/en/infographics/cyber-security/</center>\n",
    "<br>\n",
    "<center><img src=\"images/eufacts2.png\" width=\"800\" heights=\"400\"><b>EU cybersecurity facts sheet 2017</b><br> Image credit: consilium.europa.eu/media/21480/cybersecurityfactsheet.pdf</center>"
   ]
  },
  {
   "cell_type": "markdown",
   "metadata": {},
   "source": [
    "# <center><span style=\"color:blue\">2. Business case: embedded encryption, data, IoT</span></center>\n",
    "\n",
    "This challenge focuses on the ability of deep learning to help in the cracking of encryption in small hardware that would typically be embedded in IoT devices. IoT devices are central among the cybersecurity concerns, since the upcoming IoT revolution translates into a massive introduction of connected devices among networks, which is directly associated with a wealth of personal and sensitive data. Connected devices have a history of being targeted by cyber attacks since many of them aren't well protected when one consider the interest of the data if gives access to. According to the EU 2017 cybersecurity facts sheet, there will be tens of billions of connected digital devices in the EU alone by 2020.\n",
    "\n",
    "<br>\n",
    "<center><img src=\"images/atmega.jpeg\" width=\"400\" heights=\"200\"><b>Typical non smart card version of the considered microcontroller</b><br> Image credit: microchipdirect.com </center>\n"
   ]
  },
  {
   "cell_type": "code",
   "execution_count": null,
   "metadata": {},
   "outputs": [],
   "source": []
  }
 ],
 "metadata": {
  "kernelspec": {
   "display_name": "Python 3",
   "language": "python",
   "name": "python3"
  },
  "language_info": {
   "codemirror_mode": {
    "name": "ipython",
    "version": 3
   },
   "file_extension": ".py",
   "mimetype": "text/x-python",
   "name": "python",
   "nbconvert_exporter": "python",
   "pygments_lexer": "ipython3",
   "version": "3.7.0"
  }
 },
 "nbformat": 4,
 "nbformat_minor": 2
}
